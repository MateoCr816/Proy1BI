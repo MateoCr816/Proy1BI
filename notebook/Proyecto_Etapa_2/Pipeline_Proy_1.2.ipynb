{
 "cells": [
  {
   "cell_type": "code",
   "execution_count": 1,
   "metadata": {},
   "outputs": [],
   "source": [
    "import pandas as pd\n",
    "from sklearn.feature_extraction.text import TfidfVectorizer\n",
    "from sklearn.naive_bayes import MultinomialNB\n",
    "from sklearn.model_selection import train_test_split\n",
    "from sklearn.pipeline import Pipeline\n",
    "from joblib import dump, load\n",
    "\n",
    "# Rutas de los archivos\n",
    "\n",
    "train_data = 'data/ODScat_345.xlsx'  # Archivo para almacenar los datos históricos\n",
    "test_data_path = 'data/TestODScat_345.xlsx'  # Datos de prueba\n",
    "model_path = 'assets/modelo.joblib'  # Ruta para guardar el modelo entrenado\n",
    "\n",
    "# Cargar los datos históricos desde el archivo Excel\n",
    "data = pd.read_excel(train_data)\n",
    "\n",
    "# Cargar los datos de prueba desde el archivo Excel\n",
    "test_data = pd.read_excel(test_data_path)\n",
    "\n",
    "# Suponiendo que los datos históricos tienen una columna 'Textos_espanol' para las características (X) y una columna 'sdg' para las etiquetas (y)\n",
    "X_historico = data['Textos_espanol']  # Columna de texto\n",
    "y_historico = data['sdg']  # Columna de etiquetas\n",
    "\n",
    "# Dividir los datos históricos en entrenamiento y prueba (80% entrenamiento, 20% prueba)\n",
    "X_train, X_test, y_train, y_test = train_test_split(X_historico, y_historico, test_size=0.2, random_state=42)\n",
    "\n",
    "# Crear un pipeline estándar con TfidfVectorizer y MultinomialNB\n",
    "pipeline = Pipeline([\n",
    "    ('tfidf', TfidfVectorizer()),  # Transformación de texto a vectores TF-IDF\n",
    "    ('nb', MultinomialNB())  # Clasificador Naive Bayes\n",
    "])\n",
    "\n",
    "# Entrenar el pipeline con los datos históricos\n",
    "pipeline.fit(X_train, y_train)\n",
    "\n",
    "# Guardar el pipeline entrenado en un archivo utilizando Joblib\n",
    "dump(pipeline, 'modelo.joblib')\n",
    "\n",
    "# Cargar el pipeline desde el archivo\n",
    "loaded_pipeline = load('modelo.joblib')\n",
    "\n",
    "# Hacer predicciones con el pipeline cargado en los datos de prueba\n",
    "predictions = loaded_pipeline.predict(X_test)\n",
    "\n",
    "\n"
   ]
  }
 ],
 "metadata": {
  "kernelspec": {
   "display_name": "base",
   "language": "python",
   "name": "python3"
  },
  "language_info": {
   "codemirror_mode": {
    "name": "ipython",
    "version": 3
   },
   "file_extension": ".py",
   "mimetype": "text/x-python",
   "name": "python",
   "nbconvert_exporter": "python",
   "pygments_lexer": "ipython3",
   "version": "3.12.4"
  }
 },
 "nbformat": 4,
 "nbformat_minor": 2
}
